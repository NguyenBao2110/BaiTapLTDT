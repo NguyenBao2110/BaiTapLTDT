{
 "cells": [
  {
   "cell_type": "markdown",
   "id": "fb427380",
   "metadata": {},
   "source": [
    "Thực Hành 5"
   ]
  },
  {
   "cell_type": "markdown",
   "id": "6bbbc0bf",
   "metadata": {},
   "source": [
    "DijkstraPriorityQueue"
   ]
  },
  {
   "cell_type": "code",
   "execution_count": 19,
   "id": "da6e1101",
   "metadata": {},
   "outputs": [
    {
     "name": "stdout",
     "output_type": "stream",
     "text": [
      "---- Code ----\n",
      "#include <iostream>\n",
      "#include <queue>\n",
      "#include <vector>\n",
      "#include <algorithm>\n",
      "using namespace std;\n",
      "\n",
      "struct Vertex {\n",
      "    int v;\n",
      "    int w;\n",
      "};\n",
      "\n",
      "vector<vector<Vertex>> adjList;\n",
      "vector<int> dist;\n",
      "vector<bool> label;\n",
      "vector<int> path;\n",
      "vector<int> pre;\n",
      "queue<int> q;\n",
      "const int INF = 1000000000;\n",
      "\n",
      "void Dijkstra(int s) {\n",
      "    int n = static_cast<int>(adjList.size()) - 1;\n",
      "    dist.resize(n + 1, INF);\n",
      "    dist[s] = 0;\n",
      "    pre.resize(n+1, -1);\n",
      "    label.resize(n+1, false);\n",
      "    q.push(s);\n",
      "    label[s] = true;\n",
      "    while (!q.empty()) {\n",
      "        int u = q.front();\n",
      "        q.pop();\n",
      "        label[u] = false;\n",
      "\n",
      "        for (auto e : adjList[u]) {\n",
      "            int v = e.v;\n",
      "            int w = e.w;\n",
      "\n",
      "            if (dist[v] > dist[u] + w) {\n",
      "                dist[v] = dist[u] + w;\n",
      "                pre[v] = u;\n",
      "                if (!label[v]) {\n",
      "                    q.push(v);\n",
      "                    label[v] = true;\n",
      "                }\n",
      "            }\n",
      "        }\n",
      "    }\n",
      "}\n",
      "\n",
      "void TimDuong(int s, int t) {\n",
      "        path.clear();\n",
      "    \n",
      "        if (dist[t] == INF) return;  // không có đường đi\n",
      "    \n",
      "        for (int u = t; u != s; u = pre[u]) {\n",
      "            if (u == -1) return; // tránh vòng lặp vô hạn nếu không có đường đi\n",
      "            path.push_back(u);\n",
      "        }\n",
      "        path.push_back(s);\n",
      "        reverse(path.begin(), path.end());\n",
      "}\n",
      "\n",
      "void solve() {\n",
      "    int n, m, s, t;\n",
      "    cin >> n >> m >> s >> t;\n",
      "\n",
      "    adjList.assign(n + 1, {}); // đánh số từ 1 -> n\n",
      "\n",
      "    for (int i = 0; i < m; i++) {\n",
      "        int u, v, w;\n",
      "        cin >> u >> v >> w;\n",
      "        adjList[u].push_back({ v, w });\n",
      "    }\n",
      "\n",
      "    Dijkstra(s);\n",
      "    TimDuong(s, t);\n",
      "\n",
      "    if (dist[t] == INF) {\n",
      "        cout << \"Khong co duong di tu \" << s << \" den \" << t << \"\\n\";\n",
      "        return;\n",
      "    }\n",
      "\n",
      "    cout << path.size() << \" \" << dist[t] << \"\\n\";\n",
      "    for (int v : path) cout << v << \" \";\n",
      "    cout << \"\\n\";\n",
      "}\n",
      "\n",
      "int main() {\n",
      "    solve();\n",
      "    return 0;\n",
      "}"
     ]
    }
   ],
   "source": [
    "print(\"---- Code ----\")\n",
    "!cat DijkstraPriorityQueue.cpp"
   ]
  },
  {
   "cell_type": "code",
   "execution_count": 20,
   "id": "ecd23f23",
   "metadata": {},
   "outputs": [
    {
     "name": "stdout",
     "output_type": "stream",
     "text": [
      "6 7 1 4\n",
      "1 2 1\n",
      "1 6 10\n",
      "2 3 2\n",
      "3 4 20\n",
      "3 6 3\n",
      "6 5 4\n",
      "5 4 5"
     ]
    }
   ],
   "source": [
    "!cat DijkstraPriorityQueue.in"
   ]
  },
  {
   "cell_type": "code",
   "execution_count": 21,
   "id": "8c672549",
   "metadata": {},
   "outputs": [
    {
     "name": "stdout",
     "output_type": "stream",
     "text": [
      "6 15\n",
      "1 2 3 6 5 4 \n"
     ]
    }
   ],
   "source": [
    "!g++ DijkstraPriorityQueue.cpp -o DijkstraPriorityQueue\n",
    "!./DijkstraPriorityQueue < DijkstraPriorityQueue.in"
   ]
  }
 ],
 "metadata": {
  "kernelspec": {
   "display_name": "Python 3",
   "language": "python",
   "name": "python3"
  },
  "language_info": {
   "codemirror_mode": {
    "name": "ipython",
    "version": 3
   },
   "file_extension": ".py",
   "mimetype": "text/x-python",
   "name": "python",
   "nbconvert_exporter": "python",
   "pygments_lexer": "ipython3",
   "version": "3.12.1"
  }
 },
 "nbformat": 4,
 "nbformat_minor": 5
}
