{
 "cells": [
  {
   "cell_type": "markdown",
   "id": "7d1923d4",
   "metadata": {},
   "source": [
    "Thực Hành 5"
   ]
  },
  {
   "cell_type": "markdown",
   "id": "787871dd",
   "metadata": {},
   "source": [
    "Dijkstra"
   ]
  },
  {
   "cell_type": "code",
   "execution_count": 1,
   "id": "9a2b344b",
   "metadata": {},
   "outputs": [
    {
     "name": "stdout",
     "output_type": "stream",
     "text": [
      "---- Code ----\n",
      "#include <iostream>\n",
      "#include <vector>\n",
      "#include <algorithm>\n",
      "using namespace std;\n",
      "\n",
      "int n, m; // so dinh, canh\n",
      "int s, t; // tim duong tu s toi t\n",
      "\n",
      "const int INF = 1000000000;\n",
      "\n",
      "vector<vector<pair<int,int>>> adjlist;\n",
      "vector<int> dist; // dist[u]: duong di ngan nhat tu s -> u\n",
      "vector<bool> label; // label[u] = true/false\n",
      "vector<int> pre;\n",
      "\n",
      "void dijsktra(int s){\n",
      "    // khoi tao\n",
      "    dist.resize(n+1, INF);\n",
      "    label.resize(n+1, false);\n",
      "    pre.resize(n+1, -1);\n",
      "\n",
      "    dist[s] = 0;\n",
      "    for(int i=0; i<n; i++){\n",
      "        // tim u chua xet, co gia tri nho nhat\n",
      "        int u = -1;\n",
      "        for(int v=1; v<=n; v++){\n",
      "            if(label[v]==false){\n",
      "                if(u==-1) {\n",
      "                    u = v;\n",
      "                } else if(dist[u]>dist[v]){\n",
      "                    u = v;\n",
      "                }\n",
      "            }\n",
      "        }\n",
      "        // cap nhat xung quanh dinh dang xet\n",
      "        if(u==-1) break;\n",
      "        // gan u da xet\n",
      "        label[u] = true;\n",
      "        // cap nhat dinh v ke u chua xet, ko toi uu\n",
      "        for(auto v: adjlist[u]){\n",
      "            int vv = v.first;\n",
      "            int ww = v.second;\n",
      "            if(label[vv]==false && \n",
      "                dist[vv]>dist[u] + ww){\n",
      "                    dist[vv] = dist[u] + ww;\n",
      "                    pre[vv] = u;\n",
      "                }\n",
      "        }\n",
      "    }\n",
      "}\n",
      "\n",
      "vector<int> FindPath(int t){\n",
      "    vector<int> path;\n",
      "    while(t!=-1){\n",
      "        path.push_back(t);\n",
      "        t = pre[t];\n",
      "    }\n",
      "    reverse(path.begin(), path.end());\n",
      "    return path;\n",
      "}\n",
      "\n",
      "void solve(){\n",
      "    int u, v, w;\n",
      "\n",
      "    // doc do thi\n",
      "    cin >> n >> m >> s >> t;\n",
      "    // printf(\"n=%d, m=%d, s=%d, t=%d\\n\", n, m, s, t);\n",
      "\n",
      "    adjlist.resize(n+1);\n",
      "    for(int i=0; i<m; i++){\n",
      "        cin >> u >> v >> w;\n",
      "        adjlist[u].push_back(make_pair(v, w));\n",
      "    }\n",
      "\n",
      "    // chay tim duong\n",
      "    dijsktra(s);\n",
      "\n",
      "    // truy hoi\n",
      "    if(pre[t]==-1)\n",
      "        cout << -1 << endl;\n",
      "    else{\n",
      "        vector<int> path = FindPath(t);\n",
      "        int weight = 0;\n",
      "        for(int i=1; i<path.size(); i++){\n",
      "            int u = path[i-1];\n",
      "            int v = path[i];\n",
      "            for(int j=0; j<adjlist[u].size(); j++){\n",
      "                if(adjlist[u][j].first == v){\n",
      "                    weight += adjlist[u][j].second;\n",
      "                }\n",
      "            }\n",
      "        }\n",
      "        cout << path.size() << \" \" << weight << endl;\n",
      "        for(auto x : path)\n",
      "            cout << x << \" \";\n",
      "        cout << endl;\n",
      "    }\n",
      "    \n",
      "}\n",
      "\n",
      "int main(){\n",
      "    // freopen(\"dijsktra.in1\", \"rt\", stdin);\n",
      "    solve();\n",
      "    return 0;\n",
      "}"
     ]
    }
   ],
   "source": [
    "print(\"---- Code ----\")\n",
    "!cat Dijkstra.cpp"
   ]
  },
  {
   "cell_type": "code",
   "execution_count": 2,
   "id": "50ce5185",
   "metadata": {},
   "outputs": [
    {
     "name": "stdout",
     "output_type": "stream",
     "text": [
      "6 7 1 4\n",
      "1 2 1\n",
      "1 6 10\n",
      "2 3 2\n",
      "3 4 20\n",
      "3 6 3\n",
      "6 5 4\n",
      "5 4 5"
     ]
    }
   ],
   "source": [
    "!cat Dijkstra.in"
   ]
  },
  {
   "cell_type": "code",
   "execution_count": 3,
   "id": "752542dd",
   "metadata": {},
   "outputs": [
    {
     "name": "stdout",
     "output_type": "stream",
     "text": [
      "6 15\n",
      "1 2 3 6 5 4 \n"
     ]
    }
   ],
   "source": [
    "!g++ Dijkstra.cpp -o Dijkstra\n",
    "!./Dijkstra < Dijkstra.in"
   ]
  }
 ],
 "metadata": {
  "kernelspec": {
   "display_name": "Python 3",
   "language": "python",
   "name": "python3"
  },
  "language_info": {
   "codemirror_mode": {
    "name": "ipython",
    "version": 3
   },
   "file_extension": ".py",
   "mimetype": "text/x-python",
   "name": "python",
   "nbconvert_exporter": "python",
   "pygments_lexer": "ipython3",
   "version": "3.12.1"
  }
 },
 "nbformat": 4,
 "nbformat_minor": 5
}
