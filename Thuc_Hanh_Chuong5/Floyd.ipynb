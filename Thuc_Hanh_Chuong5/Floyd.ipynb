{
 "cells": [
  {
   "cell_type": "markdown",
   "id": "fb427380",
   "metadata": {},
   "source": [
    "Thực Hành 5"
   ]
  },
  {
   "cell_type": "markdown",
   "id": "6bbbc0bf",
   "metadata": {},
   "source": [
    "Floyd"
   ]
  },
  {
   "cell_type": "code",
   "execution_count": 1,
   "id": "da6e1101",
   "metadata": {},
   "outputs": [
    {
     "name": "stdout",
     "output_type": "stream",
     "text": [
      "---- Code ----\n",
      "#include <iostream>\n",
      "#include <vector>\n",
      "using namespace std;\n",
      "\n",
      "vector<vector<int>> dist;\n",
      "//vector<int>path;\n",
      "const int INF = 1000000000;\n",
      "void Floyd(int n) {\n",
      "\n",
      "\tfor (int k = 1; k <= n; k++) {\n",
      "\t\tfor (int i = 1; i <= n; i++) {\n",
      "\t\t\tfor (int j = 0; j <= n; j++) {\n",
      "\t\t\t\tif (dist[i][k] < INF && dist[k][j] < INF) {\n",
      "\t\t\t\t\tif (dist[i][j] > (dist[i][k] + dist[k][j]))\n",
      "\t\t\t\t\t\tdist[i][j] = dist[i][k] + dist[k][j];\n",
      "\t\t\t\t}\n",
      "\t\t\t}\n",
      "\t\t}\n",
      "\t}\n",
      "}\n",
      "\n",
      "void solve() {\n",
      "\tint n, m;\n",
      "\tcin >> n >> m;\n",
      "\tdist.assign(n + 1, vector<int>(n + 1, INF));\n",
      "\t/*path.resize(n + 1);*/\n",
      "\tfor (int i = 1; i <= n; i++) {\n",
      "\t\tdist[i][i] = 0;\n",
      "\t}\n",
      "\tfor (int j = 0; j < m; j++)\n",
      "\t{\n",
      "\t\tint u, v, w;\n",
      "\t\tcin >> u >> v >> w;\n",
      "\t\tdist[u][v] = w;\n",
      "\t\tdist[v][u] = w;\n",
      "\t}\n",
      "\tFloyd(n);\n",
      "\n",
      "\tfor (int i = 1; i <= n; i++) { \n",
      "\t\tfor (int j = 1; j <= n; j++) { \n",
      "\t\t\tif (dist[i][j] == INF) \n",
      "\t\t\t\tcout << \"INF \"; else cout << dist[i][j] << \" \";\n",
      "\t\t}\n",
      "\t\tcout << \"\\n\";\n",
      "\t}\n",
      "}\n",
      "int main() {\n",
      "\tsolve();\n",
      "\treturn 0;\n",
      "}\n"
     ]
    }
   ],
   "source": [
    "print(\"---- Code ----\")\n",
    "!cat Floyd.cpp"
   ]
  },
  {
   "cell_type": "code",
   "execution_count": 2,
   "id": "ecd23f23",
   "metadata": {},
   "outputs": [
    {
     "name": "stdout",
     "output_type": "stream",
     "text": [
      "5 6\n",
      "1 2 5\n",
      "1 4 9\n",
      "1 5 1\n",
      "2 3 2\n",
      "3 4 7\n",
      "4 5 2"
     ]
    }
   ],
   "source": [
    "!cat Floyd.in"
   ]
  },
  {
   "cell_type": "code",
   "execution_count": 3,
   "id": "8c672549",
   "metadata": {},
   "outputs": [
    {
     "name": "stdout",
     "output_type": "stream",
     "text": [
      "0 5 7 3 1 \n",
      "5 0 2 8 6 \n",
      "7 2 0 7 8 \n",
      "3 8 7 0 2 \n",
      "1 6 8 2 0 \n"
     ]
    }
   ],
   "source": [
    "!g++ Floyd.cpp -o Floyd\n",
    "!./Floyd < Floyd.in"
   ]
  }
 ],
 "metadata": {
  "kernelspec": {
   "display_name": "Python 3",
   "language": "python",
   "name": "python3"
  },
  "language_info": {
   "codemirror_mode": {
    "name": "ipython",
    "version": 3
   },
   "file_extension": ".py",
   "mimetype": "text/x-python",
   "name": "python",
   "nbconvert_exporter": "python",
   "pygments_lexer": "ipython3",
   "version": "3.12.1"
  }
 },
 "nbformat": 4,
 "nbformat_minor": 5
}
