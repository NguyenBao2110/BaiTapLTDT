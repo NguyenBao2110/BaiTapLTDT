{
 "cells": [
  {
   "cell_type": "markdown",
   "id": "fb427380",
   "metadata": {},
   "source": [
    "Thực Hành 5"
   ]
  },
  {
   "cell_type": "markdown",
   "id": "6bbbc0bf",
   "metadata": {},
   "source": [
    "Ngắn Nhất Trung Gian"
   ]
  },
  {
   "cell_type": "code",
   "execution_count": 1,
   "id": "da6e1101",
   "metadata": {},
   "outputs": [
    {
     "name": "stdout",
     "output_type": "stream",
     "text": [
      "---- Code ----\n",
      "#include <iostream>\n",
      "#include <vector>\n",
      "#include <algorithm>\n",
      "using namespace std;\n",
      "\n",
      "struct Vertex {\n",
      "    int v;\n",
      "    int w;\n",
      "};\n",
      "\n",
      "vector<vector<Vertex>> adjList;\n",
      "vector<int> dist;\n",
      "vector<bool> label;\n",
      "vector<int> path;\n",
      "vector<int> pre;\n",
      "const int INF = 1000000000;\n",
      "\n",
      "void Dijkstra(int s) {\n",
      "    int n = static_cast<int>(adjList.size()) - 1;\n",
      "    dist.assign(n + 1, INF);\n",
      "    dist[s] = 0;\n",
      "    pre.assign(n + 1, -1);\n",
      "    label.assign(n + 1, false);\n",
      "    for (int k = 1; k <= n; k++) {\n",
      "\n",
      "        int u = -1;\n",
      "        int minDist = INF;\n",
      "        for (int i = 1; i <= n; i++) {\n",
      "            if (!label[i] && dist[i] < minDist) {\n",
      "                minDist = dist[i];\n",
      "                u = i;\n",
      "            }\n",
      "        }\n",
      "\n",
      "        if (u == -1) break;  \n",
      "        label[u] = true;\n",
      "\n",
      "        for (auto edge : adjList[u]) {\n",
      "            int v = edge.v;\n",
      "            int w = edge.w;\n",
      "\n",
      "            if (!label[v] && dist[v] > dist[u] + w) {\n",
      "                dist[v] = dist[u] + w;\n",
      "                pre[v] = u;  // truy vết\n",
      "            }\n",
      "        }\n",
      "    }\n",
      "}\n",
      "\n",
      "void TimDuong(int s, int t) {\n",
      "    path.clear();\n",
      "\n",
      "    if (dist[t] == INF) return;  \n",
      "\n",
      "    for (int u = t; u != s; u = pre[u]) {\n",
      "        if (u == -1) return; \n",
      "        path.push_back(u);\n",
      "    }\n",
      "    path.push_back(s);\n",
      "    reverse(path.begin(), path.end());\n",
      "}\n",
      "\n",
      "\n",
      "void solve() {\n",
      "    int n, m, s, t, x;\n",
      "    cin >> n >> m >> s >> t>>x;\n",
      "\n",
      "    adjList.assign(n + 1, {});\n",
      "\n",
      "    for (int i = 0; i < m; i++) {\n",
      "        int u, v, w;\n",
      "        cin >> u >> v >> w;\n",
      "        adjList[u].push_back({ v, w });\n",
      "    }\n",
      "\n",
      "    Dijkstra(s);\n",
      "    TimDuong(s, x);\n",
      "\n",
      "    if (dist[x] == INF) {\n",
      "        cout << \"Khong co duong di tu \" << s << \" den \" << x << \"\\n\";\n",
      "        return;\n",
      "    }\n",
      "\n",
      "    vector<int>path1 = path;\n",
      "    int k = dist[x];\n",
      "\n",
      "    Dijkstra(x);\n",
      "    TimDuong(x, t);\n",
      "\n",
      "    if (dist[t] == INF) {\n",
      "        cout << \"Khong co duong di tu \" << x << \" den \" << t << \"\\n\";\n",
      "        return;\n",
      "    }\n",
      "\tk += dist[t];\n",
      "    for (int i = 1; i < (int)path.size(); i++) {\n",
      "        path1.push_back(path[i]);\n",
      "    }\n",
      "    cout << path1.size() << \" \" << k<< \"\\n\";\n",
      "    for (int v : path1) cout << v << \" \";\n",
      "    cout << \"\\n\";\n",
      "}\n",
      "\n",
      "int main() {\n",
      "    solve();\n",
      "    return 0;\n",
      "}"
     ]
    }
   ],
   "source": [
    "print(\"---- Code ----\")\n",
    "!cat NganNhatTrungGian.cpp"
   ]
  },
  {
   "cell_type": "code",
   "execution_count": 2,
   "id": "ecd23f23",
   "metadata": {},
   "outputs": [
    {
     "name": "stdout",
     "output_type": "stream",
     "text": [
      "6 7 1 4 3\n",
      "1 2 1\n",
      "1 6 10\n",
      "2 3 2\n",
      "3 4 20\n",
      "3 6 3\n",
      "6 5 4\n",
      "5 4 5"
     ]
    }
   ],
   "source": [
    "!cat NganNhatTrungGian.in"
   ]
  },
  {
   "cell_type": "code",
   "execution_count": 3,
   "id": "8c672549",
   "metadata": {},
   "outputs": [
    {
     "name": "stdout",
     "output_type": "stream",
     "text": [
      "6 15\n",
      "1 2 3 6 5 4 \n"
     ]
    }
   ],
   "source": [
    "!g++ NganNhatTrungGian.cpp -o NganNhatTrungGian\n",
    "!./NganNhatTrungGian < NganNhatTrungGian.in"
   ]
  }
 ],
 "metadata": {
  "kernelspec": {
   "display_name": "Python 3",
   "language": "python",
   "name": "python3"
  },
  "language_info": {
   "codemirror_mode": {
    "name": "ipython",
    "version": 3
   },
   "file_extension": ".py",
   "mimetype": "text/x-python",
   "name": "python",
   "nbconvert_exporter": "python",
   "pygments_lexer": "ipython3",
   "version": "3.12.1"
  }
 },
 "nbformat": 4,
 "nbformat_minor": 5
}
