{
 "cells": [
  {
   "cell_type": "markdown",
   "id": "9d533277",
   "metadata": {},
   "source": [
    "# THUC HANH 1"
   ]
  },
  {
   "cell_type": "markdown",
   "id": "b45b5029",
   "metadata": {},
   "source": [
    "# HASH-TABLE"
   ]
  },
  {
   "cell_type": "markdown",
   "id": "422185dd",
   "metadata": {},
   "source": [
    "BÀI 3. BIỂU DIỄN N! "
   ]
  },
  {
   "cell_type": "markdown",
   "id": "34887782",
   "metadata": {},
   "source": [
    "Ý Tưởng\n"
   ]
  },
  {
   "cell_type": "code",
   "execution_count": 5,
   "id": "8b62af32",
   "metadata": {},
   "outputs": [
    {
     "name": "stdout",
     "output_type": "stream",
     "text": [
      "Tìm tất cả các số nguyên tố nhỏ hơn hoặc bằng N.\n",
      "\n",
      "Tìm tất cả các số nguyên tố nhỏ hơn hoặc bằng N.\n",
      "\n",
      "Lưu các số mũ đã tính được vào một mảng hoặc vector.\n",
      "\n",
      "In ra các số mũ theo thứ tự đã lưu, cách nhau bằng dấu cách.\n"
     ]
    }
   ],
   "source": [
    "print(\"Tìm tất cả các số nguyên tố nhỏ hơn hoặc bằng N.\")\n",
    "print(\"\")\n",
    "print(\"Tìm tất cả các số nguyên tố nhỏ hơn hoặc bằng N.\")\n",
    "print(\"\")\n",
    "print(\"Lưu các số mũ đã tính được vào một mảng hoặc vector.\")\n",
    "print(\"\")\n",
    "print(\"In ra các số mũ theo thứ tự đã lưu, cách nhau bằng dấu cách.\")\n"
   ]
  },
  {
   "cell_type": "code",
   "execution_count": 6,
   "id": "0db48aee",
   "metadata": {},
   "outputs": [
    {
     "name": "stdout",
     "output_type": "stream",
     "text": [
      "---- Code ----\n",
      "#include <iostream>\n",
      "#include <vector>\n",
      "using namespace std;\n",
      "\n",
      "int main() {\n",
      "   int N;\n",
      "   cin >> N;\n",
      "\n",
      "   vector<bool> check(N + 1, false);\n",
      "   bool DHV = true;\n",
      "\n",
      "   for (int i = 0; i < N; ++i) {\n",
      "       int a;\n",
      "       cin >> a;\n",
      "       if (a < 1 || a > N) {\n",
      "           DHV = false;\n",
      "       }\n",
      "       else if (check[a]) {\n",
      "           DHV = false;\n",
      "       }\n",
      "       else {\n",
      "           check[a] = true;\n",
      "       }\n",
      "   }\n",
      "\n",
      "   if (DHV) {\n",
      "       cout << \"YES\" << endl;\n",
      "   }\n",
      "   else {\n",
      "       cout << \"NO\" << endl;\n",
      "   }\n",
      "\n",
      "   return 0;\n",
      "}"
     ]
    }
   ],
   "source": [
    "print(\"---- Code ----\")\n",
    "!cat ANALYSE.cpp"
   ]
  },
  {
   "cell_type": "code",
   "execution_count": 7,
   "id": "a9a4f96e",
   "metadata": {},
   "outputs": [
    {
     "name": "stdout",
     "output_type": "stream",
     "text": [
      "3\n",
      "2 1 3"
     ]
    }
   ],
   "source": [
    "!cat ANALYSE.in"
   ]
  },
  {
   "cell_type": "code",
   "execution_count": 8,
   "id": "53decaba",
   "metadata": {},
   "outputs": [
    {
     "name": "stdout",
     "output_type": "stream",
     "text": [
      "YES\n"
     ]
    }
   ],
   "source": [
    "!g++ ANALYSE.cpp -o ANALYSE\n",
    "!./ANALYSE < ANALYSE.in"
   ]
  }
 ],
 "metadata": {
  "kernelspec": {
   "display_name": "Python 3",
   "language": "python",
   "name": "python3"
  },
  "language_info": {
   "codemirror_mode": {
    "name": "ipython",
    "version": 3
   },
   "file_extension": ".py",
   "mimetype": "text/x-python",
   "name": "python",
   "nbconvert_exporter": "python",
   "pygments_lexer": "ipython3",
   "version": "3.12.1"
  }
 },
 "nbformat": 4,
 "nbformat_minor": 5
}
