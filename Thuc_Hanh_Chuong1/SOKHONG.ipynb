{
 "cells": [
  {
   "cell_type": "markdown",
   "id": "9d533277",
   "metadata": {},
   "source": [
    "# THUC HANH 1"
   ]
  },
  {
   "cell_type": "markdown",
   "id": "b45b5029",
   "metadata": {},
   "source": [
    "# HASH-TABLE"
   ]
  },
  {
   "cell_type": "markdown",
   "id": "422185dd",
   "metadata": {},
   "source": [
    "BÀI 4. SỐ CHỮ SỐ KHÔNG TẬN CÙNG N! "
   ]
  },
  {
   "cell_type": "markdown",
   "id": "34887782",
   "metadata": {},
   "source": [
    "Ý Tưởng\n"
   ]
  },
  {
   "cell_type": "code",
   "execution_count": 5,
   "id": "8b62af32",
   "metadata": {},
   "outputs": [
    {
     "name": "stdout",
     "output_type": "stream",
     "text": [
      "Tính trước số chữ số 0 tận cùng của N cho một loạt các giá trị N (ví dụ từ 1 đến 100).\n",
      "\n",
      "Lưu các kết quả này vào một map, với khóa (key) là N và giá trị (value) là số chữ số 0 tận cùng.\n",
      "\n",
      "Khi người dùng nhập một số N, chỉ cần tra cứu khóa N trong bảng băm.\n",
      "\n",
      "Nếu tìm thấy, in ra giá trị tương ứng.\n"
     ]
    }
   ],
   "source": [
    "print(\"Tính trước số chữ số 0 tận cùng của N cho một loạt các giá trị N (ví dụ từ 1 đến 100).\")\n",
    "print(\"\")\n",
    "print(\"Lưu các kết quả này vào một map, với khóa (key) là N và giá trị (value) là số chữ số 0 tận cùng.\")\n",
    "print(\"\")\n",
    "print(\"Khi người dùng nhập một số N, chỉ cần tra cứu khóa N trong bảng băm.\")\n",
    "print(\"\")\n",
    "print(\"Nếu tìm thấy, in ra giá trị tương ứng.\")\n"
   ]
  },
  {
   "cell_type": "code",
   "execution_count": 6,
   "id": "0db48aee",
   "metadata": {},
   "outputs": [
    {
     "name": "stdout",
     "output_type": "stream",
     "text": [
      "---- Code ----\n",
      "#include <iostream>\n",
      "#include <map>\n",
      "using namespace std;\n",
      "\n",
      "long long DSK(long long n) {\n",
      "   if (n < 0) return 0;\n",
      "   long long count = 0;\n",
      "   while (n >= 5) {\n",
      "       n /= 5;\n",
      "       count += n;\n",
      "   }\n",
      "   return count;\n",
      "}\n",
      "\n",
      "int main() {\n",
      "   map<int, long long> BL;\n",
      "   for (int i = 1; i <= 1000; ++i) {\n",
      "       BL[i] = DSK(i);\n",
      "   }\n",
      "\n",
      "   int N;\n",
      "   while (cin >> N) {    \n",
      "       if (N <= 1000) {\n",
      "           cout << BL[N] << endl;\n",
      "       }\n",
      "       else {\n",
      "           cout << DSK(N) << endl;\n",
      "       }\n",
      "   }\n",
      "\n",
      "   return 0;\n",
      "}\n"
     ]
    }
   ],
   "source": [
    "print(\"---- Code ----\")\n",
    "!cat SOKHONG.cpp"
   ]
  },
  {
   "cell_type": "code",
   "execution_count": 7,
   "id": "a9a4f96e",
   "metadata": {},
   "outputs": [
    {
     "name": "stdout",
     "output_type": "stream",
     "text": [
      "5\n",
      "10\n",
      "\n"
     ]
    }
   ],
   "source": [
    "!cat SOKHONG.in"
   ]
  },
  {
   "cell_type": "code",
   "execution_count": 8,
   "id": "53decaba",
   "metadata": {},
   "outputs": [
    {
     "name": "stdout",
     "output_type": "stream",
     "text": [
      "1\n",
      "2\n"
     ]
    }
   ],
   "source": [
    "!g++ SOKHONG.cpp -o SOKHONG\n",
    "!./SOKHONG < SOKHONG.in"
   ]
  }
 ],
 "metadata": {
  "kernelspec": {
   "display_name": "Python 3",
   "language": "python",
   "name": "python3"
  },
  "language_info": {
   "codemirror_mode": {
    "name": "ipython",
    "version": 3
   },
   "file_extension": ".py",
   "mimetype": "text/x-python",
   "name": "python",
   "nbconvert_exporter": "python",
   "pygments_lexer": "ipython3",
   "version": "3.12.1"
  }
 },
 "nbformat": 4,
 "nbformat_minor": 5
}
