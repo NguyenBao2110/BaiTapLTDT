{
 "cells": [
  {
   "cell_type": "markdown",
   "id": "9d533277",
   "metadata": {},
   "source": [
    "# THUC HANH 1"
   ]
  },
  {
   "cell_type": "markdown",
   "id": "b45b5029",
   "metadata": {},
   "source": [
    "# HASH-TABLE"
   ]
  },
  {
   "cell_type": "markdown",
   "id": "34887782",
   "metadata": {},
   "source": [
    "Ý Tưởng\n"
   ]
  },
  {
   "cell_type": "code",
   "execution_count": 1,
   "id": "8b62af32",
   "metadata": {},
   "outputs": [
    {
     "name": "stdout",
     "output_type": "stream",
     "text": [
      "Sử dụng một map để lưu trữ tần suất xuất hiện của các \"bộ ba\".\n",
      "\n",
      "Sử dụng một biến max để lưu trữ tần suất lớn nhất, khởi tạo bằng 0.\n",
      "\n",
      "Sử dụng một vòng lặp for để duyệt chuỗi S từ đầu đến cuối. Vòng lặp sẽ chạy từ chỉ số i = 0 đến S.length() - 3 để đảm bảo luôn lấy được một chuỗi con có đủ 3 ký tự. Trong mỗi lần lặp, trích xuất chuỗi con gồm 3 ký tự từ vị trí i.\n",
      "\n",
      "Nếu bộ ba lặp lại thì tang biến đếm lên.\n",
      "\n",
      "Cập nhật max nếu tần suất của bộ ba lớn hơn giá trị hiện tại.\n",
      "\n",
      "Sử dụng một vòng lặp for để duyệt qua tất cả các cặp (key, value) trong map và tìm giá trị value lớn nhất.\n"
     ]
    }
   ],
   "source": [
    "print(\"Sử dụng một map để lưu trữ tần suất xuất hiện của các \\\"bộ ba\\\".\") \n",
    "print(\"\")\n",
    "print(\"Sử dụng một biến max để lưu trữ tần suất lớn nhất, khởi tạo bằng 0.\")\n",
    "print(\"\")\n",
    "print(\"Sử dụng một vòng lặp for để duyệt chuỗi S từ đầu đến cuối. Vòng lặp sẽ chạy từ chỉ số i = 0 đến S.length() - 3 để đảm bảo luôn lấy được một chuỗi con có đủ 3 ký tự. Trong mỗi lần lặp, trích xuất chuỗi con gồm 3 ký tự từ vị trí i.\")\n",
    "print(\"\")\n",
    "print(\"Nếu bộ ba lặp lại thì tang biến đếm lên.\")\n",
    "print(\"\")\n",
    "print(\"Cập nhật max nếu tần suất của bộ ba lớn hơn giá trị hiện tại.\")\n",
    "print(\"\")\n",
    "print(\"Sử dụng một vòng lặp for để duyệt qua tất cả các cặp (key, value) trong map và tìm giá trị value lớn nhất.\")"
   ]
  },
  {
   "cell_type": "code",
   "execution_count": 2,
   "id": "0db48aee",
   "metadata": {},
   "outputs": [
    {
     "name": "stdout",
     "output_type": "stream",
     "text": [
      "---- Code ----\n",
      "#include <iostream>\n",
      "#include <string>\n",
      "#include <map>\n",
      "using namespace std;\n",
      "\n",
      "int main() {\n",
      "   int T;\n",
      "   cin >> T;\n",
      "\n",
      "   while (T--) {\n",
      "       string s;\n",
      "       cin >> s;\n",
      "       map<string, int> tanso;\n",
      "\n",
      "\n",
      "       for (size_t i = 0; i + 3 <= s.length(); ++i) {\n",
      "           string bo_ba = s.substr(i, 3);\n",
      "           tanso[bo_ba]++;\n",
      "       }\n",
      "       int max_tanso = 0;\n",
      "       if (!tanso.empty()) {\n",
      "           for (map<string, int>::iterator it = tanso.begin(); it != tanso.end(); it++) {\n",
      "               if (it->second > max_tanso) {\n",
      "                   max_tanso = it->second;\n",
      "               }\n",
      "           }\n",
      "       }\n",
      "\n",
      "       cout << max_tanso << endl;\n",
      "   }\n",
      "\n",
      "   return 0;\n",
      "}"
     ]
    }
   ],
   "source": [
    "print(\"---- Code ----\")\n",
    "!cat BOBA.cpp"
   ]
  },
  {
   "cell_type": "code",
   "execution_count": 3,
   "id": "a9a4f96e",
   "metadata": {},
   "outputs": [
    {
     "name": "stdout",
     "output_type": "stream",
     "text": [
      "2\n",
      "AAAAAD\n",
      "BCDEGHDJL"
     ]
    }
   ],
   "source": [
    "!cat BOBA.in"
   ]
  },
  {
   "cell_type": "code",
   "execution_count": 4,
   "id": "53decaba",
   "metadata": {},
   "outputs": [
    {
     "name": "stdout",
     "output_type": "stream",
     "text": [
      "3\n",
      "1\n"
     ]
    }
   ],
   "source": [
    "!g++ BOBA.cpp -o BOBA\n",
    "!./BOBA < BOBA.in"
   ]
  }
 ],
 "metadata": {
  "kernelspec": {
   "display_name": "Python 3",
   "language": "python",
   "name": "python3"
  },
  "language_info": {
   "codemirror_mode": {
    "name": "ipython",
    "version": 3
   },
   "file_extension": ".py",
   "mimetype": "text/x-python",
   "name": "python",
   "nbconvert_exporter": "python",
   "pygments_lexer": "ipython3",
   "version": "3.12.1"
  }
 },
 "nbformat": 4,
 "nbformat_minor": 5
}
