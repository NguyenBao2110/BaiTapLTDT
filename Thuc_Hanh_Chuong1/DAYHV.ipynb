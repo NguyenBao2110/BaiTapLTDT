{
 "cells": [
  {
   "cell_type": "markdown",
   "id": "9d533277",
   "metadata": {},
   "source": [
    "# THUC HANH 1"
   ]
  },
  {
   "cell_type": "markdown",
   "id": "b45b5029",
   "metadata": {},
   "source": [
    "# HASH-TABLE"
   ]
  },
  {
   "cell_type": "markdown",
   "id": "422185dd",
   "metadata": {},
   "source": [
    "BÀI 2. DÃY SỐ HOÁN VỊ "
   ]
  },
  {
   "cell_type": "markdown",
   "id": "34887782",
   "metadata": {},
   "source": [
    "Ý Tưởng\n"
   ]
  },
  {
   "cell_type": "code",
   "execution_count": 12,
   "id": "8b62af32",
   "metadata": {},
   "outputs": [
    {
     "name": "stdout",
     "output_type": "stream",
     "text": [
      "Duyệt qua dãy N số nguyên để kiểm tra xem có nằm trong khoảng từ 1->N không.\n",
      "\n",
      "Nếu có số nằm ngoài thì in ra \"NO\"\n",
      "\n",
      "Nếu có số xuất hiện lại thì in ra \"NO\".\n",
      "\n",
      "Nếu số hợp lệ và chưa xuất hiện, đánh dấu nó là đã xuất hiện bằng cách gán check[A_i] = true.\n",
      "\n",
      "Nếu vòng lặp hoàn thành mà không có lỗi nào được tìm thấy (tức là không in ra \"NO\" và kết thúc), điều đó có nghĩa là tất cả các số từ 1 đến N đều đã xuất hiện đúng một lần. Khi đó, in ra \"YES\".\n",
      "\n",
      "Khi đó, in ra \"YES\".\n"
     ]
    }
   ],
   "source": [
    "print(\"Duyệt qua dãy N số nguyên để kiểm tra xem có nằm trong khoảng từ 1->N không.\")\n",
    "print(\"\")\n",
    "print(\"Nếu có số nằm ngoài thì in ra \\\"NO\\\"\")\n",
    "print(\"\")\n",
    "print(\"Nếu có số xuất hiện lại thì in ra \\\"NO\\\".\")\n",
    "print(\"\")\n",
    "print(\"Nếu số hợp lệ và chưa xuất hiện, đánh dấu nó là đã xuất hiện bằng cách gán check[A_i] = true.\")\n",
    "print(\"\")\n",
    "print(\"Nếu vòng lặp hoàn thành mà không có lỗi nào được tìm thấy (tức là không in ra \\\"NO\\\" và kết thúc), điều đó có nghĩa là tất cả các số từ 1 đến N đều đã xuất hiện đúng một lần. Khi đó, in ra \\\"YES\\\".\")\n",
    "print(\"\")\n",
    "print(\"Khi đó, in ra \\\"YES\\\".\")"
   ]
  },
  {
   "cell_type": "code",
   "execution_count": 13,
   "id": "0db48aee",
   "metadata": {},
   "outputs": [
    {
     "name": "stdout",
     "output_type": "stream",
     "text": [
      "---- Code ----\n",
      "#include <iostream>\n",
      "#include <vector>\n",
      "using namespace std;\n",
      "\n",
      "int main() {\n",
      "   int N;\n",
      "   cin >> N;\n",
      "\n",
      "   vector<bool> check(N + 1, false);\n",
      "   bool DHV = true;\n",
      "\n",
      "   for (int i = 0; i < N; ++i) {\n",
      "       int a;\n",
      "       cin >> a;\n",
      "       if (a < 1 || a > N) {\n",
      "           DHV = false;\n",
      "       }\n",
      "       else if (check[a]) {\n",
      "           DHV = false;\n",
      "       }\n",
      "       else {\n",
      "           check[a] = true;\n",
      "       }\n",
      "   }\n",
      "\n",
      "   if (DHV) {\n",
      "       cout << \"YES\" << endl;\n",
      "   }\n",
      "   else {\n",
      "       cout << \"NO\" << endl;\n",
      "   }\n",
      "\n",
      "   return 0;\n",
      "}"
     ]
    }
   ],
   "source": [
    "print(\"---- Code ----\")\n",
    "!cat DAYHV.cpp"
   ]
  },
  {
   "cell_type": "code",
   "execution_count": 14,
   "id": "a9a4f96e",
   "metadata": {},
   "outputs": [
    {
     "name": "stdout",
     "output_type": "stream",
     "text": [
      "3\n",
      "2 1 3"
     ]
    }
   ],
   "source": [
    "!cat DAYHV.in"
   ]
  },
  {
   "cell_type": "code",
   "execution_count": 15,
   "id": "53decaba",
   "metadata": {},
   "outputs": [
    {
     "name": "stdout",
     "output_type": "stream",
     "text": [
      "YES\n"
     ]
    }
   ],
   "source": [
    "!g++ DAYHV.cpp -o DAYHV\n",
    "!./DAYHV < DAYHV.in"
   ]
  }
 ],
 "metadata": {
  "kernelspec": {
   "display_name": "Python 3",
   "language": "python",
   "name": "python3"
  },
  "language_info": {
   "codemirror_mode": {
    "name": "ipython",
    "version": 3
   },
   "file_extension": ".py",
   "mimetype": "text/x-python",
   "name": "python",
   "nbconvert_exporter": "python",
   "pygments_lexer": "ipython3",
   "version": "3.12.1"
  }
 },
 "nbformat": 4,
 "nbformat_minor": 5
}
