{
 "cells": [
  {
   "cell_type": "markdown",
   "id": "9d533277",
   "metadata": {},
   "source": [
    "# THUC HANH 1"
   ]
  },
  {
   "cell_type": "markdown",
   "id": "b45b5029",
   "metadata": {},
   "source": [
    "# HASH-TABLE"
   ]
  },
  {
   "cell_type": "markdown",
   "id": "422185dd",
   "metadata": {},
   "source": [
    "Bài 5. Phần tử chung"
   ]
  },
  {
   "cell_type": "markdown",
   "id": "34887782",
   "metadata": {},
   "source": [
    "Ý Tưởng\n"
   ]
  },
  {
   "cell_type": "code",
   "execution_count": 1,
   "id": "8b62af32",
   "metadata": {},
   "outputs": [
    {
     "name": "stdout",
     "output_type": "stream",
     "text": [
      "Tạo ba hash set (set_x, set_y, set_z) để lưu các phần tử duy nhất từ mỗi dãy số. Điều này giúp loại bỏ các phần tử trùng lặp trong từng dãy ban đầu.\n",
      "\n",
      "Sử dụng một hash map (counts) để lưu tần suất xuất hiện của các phần tử.\n",
      "\n",
      "Duyệt qua set_x và tăng giá trị đếm cho mỗi phần tử trong counts.\n",
      "\n",
      "Làm tương tự với set_y và set_z.\n",
      "\n",
      "Duyệt qua counts và thu thập tất cả các phần tử có giá trị đếm bằng 3 (tức là chúng xuất hiện trong cả 3 tập hợp).\n",
      "\n",
      "Sắp xếp các phần tử này theo thứ tự tăng dần và in ra.\n"
     ]
    }
   ],
   "source": [
    "print(\"Tạo ba hash set (set_x, set_y, set_z) để lưu các phần tử duy nhất từ mỗi dãy số. Điều này giúp loại bỏ các phần tử trùng lặp trong từng dãy ban đầu.\")\n",
    "print(\"\")\n",
    "print(\"Sử dụng một hash map (counts) để lưu tần suất xuất hiện của các phần tử.\")\n",
    "print(\"\")\n",
    "print(\"Duyệt qua set_x và tăng giá trị đếm cho mỗi phần tử trong counts.\")\n",
    "print(\"\")\n",
    "print(\"Làm tương tự với set_y và set_z.\")\n",
    "print(\"\")\n",
    "print(\"Duyệt qua counts và thu thập tất cả các phần tử có giá trị đếm bằng 3 (tức là chúng xuất hiện trong cả 3 tập hợp).\")\n",
    "print(\"\")\n",
    "print(\"Sắp xếp các phần tử này theo thứ tự tăng dần và in ra.\")\n"
   ]
  },
  {
   "cell_type": "code",
   "execution_count": 2,
   "id": "0db48aee",
   "metadata": {},
   "outputs": [
    {
     "name": "stdout",
     "output_type": "stream",
     "text": [
      "---- Code ----\n",
      "#include <iostream>\n",
      "#include <vector>\n",
      "#include <unordered_set>\n",
      "#include <unordered_map>\n",
      "#include <algorithm>\n",
      "using namespace std;\n",
      "\n",
      "void NhapMang(int n, unordered_set<int>& s) {\n",
      "    for (int i = 0; i < n; ++i) {\n",
      "        int val;\n",
      "        cin >> val;\n",
      "        s.insert(val);\n",
      "    }\n",
      "}\n",
      "\n",
      "int main() {\n",
      "    ios_base::sync_with_stdio(false);\n",
      "    cin.tie(NULL);\n",
      "\n",
      "    int nx, ny, nz;\n",
      "\n",
      "    cin >> nx;\n",
      "    unordered_set<int> set_x;\n",
      "    NhapMang(nx, set_x);\n",
      "    cin >> ny;\n",
      "    unordered_set<int> set_y;\n",
      "    NhapMang(ny, set_y);\n",
      "    cin >> nz;\n",
      "    unordered_set<int> set_z;\n",
      "    NhapMang(nz, set_z);\n",
      "    unordered_map<int, int> counts;\n",
      "    for (int num : set_x) {\n",
      "        counts[num]++;\n",
      "    }\n",
      "    for (int num : set_y) {\n",
      "        counts[num]++;\n",
      "    }\n",
      "    for (int num : set_z) {\n",
      "        counts[num]++;\n",
      "    }\n",
      "\n",
      "    vector<int> PTC;\n",
      "    for (const auto& pair : counts) {\n",
      "        if (pair.second == 3) {\n",
      "            PTC.push_back(pair.first);\n",
      "        }\n",
      "    }\n",
      "    sort(PTC.begin(), PTC.end());\n",
      "    cout << PTC.size() << endl;\n",
      "    for (size_t i = 0; i < PTC.size(); ++i) {\n",
      "        cout << PTC[i];\n",
      "        if (i < PTC.size() - 1) {\n",
      "           cout << \" \";\n",
      "        }\n",
      "    }\n",
      "    cout << endl;\n",
      "\n",
      "    return 0;\n",
      "}"
     ]
    }
   ],
   "source": [
    "print(\"---- Code ----\")\n",
    "!cat PhanTuChung.cpp"
   ]
  },
  {
   "cell_type": "code",
   "execution_count": 3,
   "id": "a9a4f96e",
   "metadata": {},
   "outputs": [
    {
     "name": "stdout",
     "output_type": "stream",
     "text": [
      "5\n",
      "1 2 5 4 3\n",
      "4\n",
      "5 6 1 4\n",
      "4\n",
      "5 3 5 1"
     ]
    }
   ],
   "source": [
    "!cat PhanTuChung.in"
   ]
  },
  {
   "cell_type": "code",
   "execution_count": 4,
   "id": "53decaba",
   "metadata": {},
   "outputs": [
    {
     "name": "stdout",
     "output_type": "stream",
     "text": [
      "2\n",
      "1 5\n"
     ]
    }
   ],
   "source": [
    "!g++ PhanTuChung.cpp -o PhanTuChung\n",
    "!./PhanTuChung < PhanTuChung.in"
   ]
  }
 ],
 "metadata": {
  "kernelspec": {
   "display_name": "Python 3",
   "language": "python",
   "name": "python3"
  },
  "language_info": {
   "codemirror_mode": {
    "name": "ipython",
    "version": 3
   },
   "file_extension": ".py",
   "mimetype": "text/x-python",
   "name": "python",
   "nbconvert_exporter": "python",
   "pygments_lexer": "ipython3",
   "version": "3.12.1"
  }
 },
 "nbformat": 4,
 "nbformat_minor": 5
}
